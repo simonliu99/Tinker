{
 "cells": [
  {
   "cell_type": "code",
   "execution_count": 1,
   "id": "associate-sheffield",
   "metadata": {},
   "outputs": [],
   "source": [
    "from selenium.webdriver import Chrome, ChromeOptions\n",
    "from selenium.webdriver.common.by import By\n",
    "from selenium.webdriver.common.keys import Keys\n",
    "from selenium.webdriver.chrome.options import Options\n",
    "from selenium.webdriver.common.action_chains import ActionChains\n",
    "\n",
    "import requests\n",
    "import wget\n",
    "import time\n",
    "\n",
    "from tqdm.notebook import tqdm"
   ]
  },
  {
   "cell_type": "code",
   "execution_count": 2,
   "id": "popular-brand",
   "metadata": {},
   "outputs": [],
   "source": [
    "options = Options()\n",
    "options.add_experimental_option(\"prefs\", {\n",
    "#   \"download.default_directory\": r\"C:\\Users\\xxx\\downloads\\Test\",\n",
    "  \"download.prompt_for_download\": False,\n",
    "#   \"download.directory_upgrade\": True,\n",
    "#   \"safebrowsing.enabled\": True\n",
    "})"
   ]
  },
  {
   "cell_type": "code",
   "execution_count": 3,
   "id": "electronic-thunder",
   "metadata": {},
   "outputs": [],
   "source": [
    "driver = Chrome('../chromedriver')\n",
    "driver.get('https://jh.hosted.panopto.com/')"
   ]
  },
  {
   "cell_type": "code",
   "execution_count": 49,
   "id": "related-circular",
   "metadata": {},
   "outputs": [],
   "source": [
    "orig_url = driver.current_url\n",
    "vids = driver.find_elements_by_class_name('thumbnail-row')"
   ]
  },
  {
   "cell_type": "code",
   "execution_count": 50,
   "id": "modern-filling",
   "metadata": {},
   "outputs": [],
   "source": [
    "urls = []\n",
    "for i in vids:\n",
    "    title = i.find_element_by_class_name('detail-title')\n",
    "    if not title.get_attribute('href'): continue\n",
    "#     print(title.find_element_by_tag_name('span').text, title.get_attribute('href'))\n",
    "    urls.append((title.find_element_by_tag_name('span').text, title.get_attribute('href')))"
   ]
  },
  {
   "cell_type": "code",
   "execution_count": 51,
   "id": "floppy-protocol",
   "metadata": {},
   "outputs": [
    {
     "name": "stdout",
     "output_type": "stream",
     "text": [
      "unable to find something October 2 Recitation: PyTorch\n"
     ]
    }
   ],
   "source": [
    "download = []\n",
    "for title, url in urls:\n",
    "    driver.get(url)\n",
    "    try:\n",
    "        driver.get(driver.find_element_by_name('twitter:player:stream').get_attribute('content').split('?')[0])\n",
    "    except:\n",
    "        print('unable to find something %s' % title)\n",
    "        continue\n",
    "    download.append((title, driver.current_url))\n",
    "driver.get(orig_url)"
   ]
  },
  {
   "cell_type": "code",
   "execution_count": 52,
   "id": "retired-clear",
   "metadata": {},
   "outputs": [
    {
     "data": {
      "text/plain": [
       "[('Presentation Recording: Sani',\n",
       "  'https://d2y36twrtb17ty.cloudfront.net/sessions/1e5b18d1-748f-421d-a7ee-ac8d004667b9/ffb4c2a9-97e3-4091-b599-ac8d004667c3-0b5d5221-5d17-45f0-a9b3-ac8d00576b7f.mp4?invocationId=00fb5c2f-06b6-eb11-8284-12c206d2fd2b'),\n",
       " ('Presentation Session: Ravichandran',\n",
       "  'https://d2y36twrtb17ty.cloudfront.net/sessions/ea997fe7-4353-4216-999c-ac8c01710b52/586912da-ef15-4433-8c92-ac8c01710b59-1b6cc110-0d71-4606-a785-ac8c017e7d44.mp4?invocationId=03fb5c2f-06b6-eb11-8284-12c206d2fd2b'),\n",
       " ('Presentation Session: Aguirre',\n",
       "  'https://d2y36twrtb17ty.cloudfront.net/sessions/aefdfec7-56c0-4c9e-9aff-ac8c016f70a8/18ad6563-364d-4658-b499-ac8c016f70b2-48f264c1-53ef-40f9-b93c-ac8c017fe113.mp4?invocationId=05fb5c2f-06b6-eb11-8284-12c206d2fd2b'),\n",
       " ('Presentation Session: Dredze',\n",
       "  'https://d2y36twrtb17ty.cloudfront.net/sessions/05c59f01-9f9b-4ba4-b8b6-ac8c0163f7f1/f73a0deb-8bcd-49c8-b7cf-ac8c0163f7fb-223fd8b7-fdd7-4192-9aa8-ac8c017630de.mp4?invocationId=09fb5c2f-06b6-eb11-8284-12c206d2fd2b'),\n",
       " ('Presentation Session: Wood-Doughty',\n",
       "  'https://d2y36twrtb17ty.cloudfront.net/sessions/ab244447-21a6-4b83-9201-ac8c0159f534/ec7cc79b-082a-416b-9c09-ac8c0159f53d-de953b04-29e0-4da1-bf15-ac8c01633f78.mp4?invocationId=0bfb5c2f-06b6-eb11-8284-12c206d2fd2b'),\n",
       " ('Presentation Session: Irani',\n",
       "  'https://d2y36twrtb17ty.cloudfront.net/sessions/c21c256f-ffdf-442b-981a-ac8c014f4c27/3c1502c2-a403-43cb-9f63-ac8c014f4c31-2ed46196-4b82-46c9-b837-ac8c0156c551.mp4?invocationId=0efb5c2f-06b6-eb11-8284-12c206d2fd2b'),\n",
       " ('26: Current Trends in ML: Wood-Doughty',\n",
       "  'https://d2y36twrtb17ty.cloudfront.net/sessions/c47c7508-ac25-4be2-bfb2-ac8a0168c30c/39480037-7624-45bf-b8c7-ac8a0168c315-b31c27e2-0317-42d9-9bb6-ac8a016d8b17.mp4?invocationId=2719b635-06b6-eb11-8284-12c206d2fd2b'),\n",
       " ('26: Current Topics in ML: Dredze',\n",
       "  'https://d2y36twrtb17ty.cloudfront.net/sessions/c6973bc1-7544-4345-870f-ac8a014a4c56/80aa3e1e-ebdc-4f0b-adf2-ac8a014a4c5e-7b093e98-2518-4202-8964-ac8a014fdaf8.mp4?invocationId=2c19b635-06b6-eb11-8284-12c206d2fd2b'),\n",
       " ('Recitation 9: Topic Models and Approximate Inference',\n",
       "  'https://d2y36twrtb17ty.cloudfront.net/sessions/61f8369e-9187-404a-a6f2-ac89013e6c6a/b7718507-2dc0-4a83-9603-ac89013e6c74-d7d433a2-7b79-4c49-abf2-ac89014423bd.mp4?invocationId=2e19b635-06b6-eb11-8284-12c206d2fd2b'),\n",
       " ('Recitation: Final Exam Review',\n",
       "  'https://d2y36twrtb17ty.cloudfront.net/sessions/f5ae324a-8b98-4696-aa10-ac89000770e2/f4b1a616-44f1-4305-b713-ac89000770eb-bc3f3640-d437-4d33-9f7f-ac8900107013.mp4?invocationId=3219b635-06b6-eb11-8284-12c206d2fd2b'),\n",
       " ('25 Practical ML: Dredze',\n",
       "  'https://d2y36twrtb17ty.cloudfront.net/sessions/6171eb8f-429e-422d-9654-ac86001efb7c/9503d36f-95f9-4658-b55e-ac86001efb87-1cc9366c-a83e-48fa-a3a3-ac860026b1e6.mp4?invocationId=3619b635-06b6-eb11-8284-12c206d2fd2b'),\n",
       " ('25: Practical ML: Wood-Doughty',\n",
       "  'https://d2y36twrtb17ty.cloudfront.net/sessions/a4dd1f0f-0a20-4b07-9798-ac8501776ffd/01e6a372-001b-4481-b3f5-ac8501777006-2ff04e49-3c1f-4637-bf15-ac85017cabec.mp4?invocationId=3919b635-06b6-eb11-8284-12c206d2fd2b'),\n",
       " ('25- Practical ML',\n",
       "  'https://d2y36twrtb17ty.cloudfront.net/sessions/bf9c0b19-bef9-4dd8-b988-ac84005f762e/400b7902-59fd-4c07-8299-ac84005f7637-5f57f1f5-ed2d-411d-8ba0-ac840063cb19.mp4?invocationId=3d19b635-06b6-eb11-8284-12c206d2fd2b'),\n",
       " ('24: Dimensionality Reduction: Dredze',\n",
       "  'https://d2y36twrtb17ty.cloudfront.net/sessions/91dbd410-969e-4187-99e0-ac83017308ac/f1621f77-dd5d-4c60-8f4e-ac83017308b6-de37e647-0df0-4829-a101-ac83017d8083.mp4?invocationId=4319b635-06b6-eb11-8284-12c206d2fd2b'),\n",
       " ('24: Dimensionality Reduction: Wood-Doughty',\n",
       "  'https://d2y36twrtb17ty.cloudfront.net/sessions/82518022-1ab0-4c2d-b4e2-ac83016bf47e/e20b6238-8371-479e-b1f3-ac83016bf487-25c0d3a3-009b-40f8-aa9c-ac8301753201.mp4?invocationId=4919b635-06b6-eb11-8284-12c206d2fd2b'),\n",
       " ('24: Dimensionality Reduction: Pre-recording',\n",
       "  'https://d2y36twrtb17ty.cloudfront.net/sessions/4bb1e67a-cd2c-413e-8734-ac820030188d/f678f602-c398-49ec-8877-ac8200301895-adbbfda9-7df8-4d01-b9a2-ac820033c454.mp4?invocationId=4e19b635-06b6-eb11-8284-12c206d2fd2b'),\n",
       " ('11/20 Recitation: Attention and Transformer Models',\n",
       "  'https://d2y36twrtb17ty.cloudfront.net/sessions/752a333a-534c-4736-a2b8-ac7901842266/e5f94275-e275-415b-b583-ac7901842270-c488ffad-1111-488e-9c71-ac7a00013836.mp4?invocationId=4424d53b-06b6-eb11-8284-12c206d2fd2b'),\n",
       " ('23: Structured Prediction 3: Wood-Doughty',\n",
       "  'https://d2y36twrtb17ty.cloudfront.net/sessions/fce64b3b-dc84-43ef-ad9f-ac770173d61b/261ff7c0-36e8-4f6d-a6fa-ac770173d624-be064ca7-721b-4cfa-863f-ac77018052bd.mp4?invocationId=4724d53b-06b6-eb11-8284-12c206d2fd2b'),\n",
       " ('23: Structured Prediction 3: Dredze',\n",
       "  'https://d2y36twrtb17ty.cloudfront.net/sessions/55547299-4f27-4fcc-be19-ac7701727eb7/bb2505ff-2310-4e09-9525-ac7701727ec0-bca1cece-444c-4613-9240-ac77017c4856.mp4?invocationId=4d24d53b-06b6-eb11-8284-12c206d2fd2b'),\n",
       " ('23: Structured Prediction 3: Pre-Recording',\n",
       "  'https://d2y36twrtb17ty.cloudfront.net/sessions/2b597be1-120d-474d-b991-ac76006c9fb9/c172aa0c-68af-4538-8e0f-ac76006c9fc3-e685177a-0ebf-448c-a483-ac76006de7f4.mp4?invocationId=5124d53b-06b6-eb11-8284-12c206d2fd2b'),\n",
       " ('22: Structured Prediction 2: Dredze',\n",
       "  'https://d2y36twrtb17ty.cloudfront.net/sessions/52e6d227-3a49-452e-9ccc-ac760035508d/bab689d0-8715-4786-8852-ac7600355096-b1d220ab-40a8-4dd9-9e94-ac76003def4c.mp4?invocationId=5424d53b-06b6-eb11-8284-12c206d2fd2b'),\n",
       " ('22: Structured Prediction 2: Wood-Doughty',\n",
       "  'https://d2y36twrtb17ty.cloudfront.net/sessions/2c028581-1194-4a86-a22c-ac750161b4f0/55e13e8d-cad1-4aeb-a2fa-ac750161b4f9-51ebd964-d092-4f01-b5c6-ac7501662585.mp4?invocationId=5724d53b-06b6-eb11-8284-12c206d2fd2b'),\n",
       " ('22- Structured Prediction 2- CRFs',\n",
       "  'https://d2y36twrtb17ty.cloudfront.net/sessions/62ba5e3e-402a-4663-8499-ac710064f4f8/5c838c98-6da9-4f43-a922-ac710064f501-d28d8d9f-ddd7-4c35-b5eb-ac71006a9604.mp4?invocationId=5924d53b-06b6-eb11-8284-12c206d2fd2b'),\n",
       " ('21- Structured Prediction- Dredze',\n",
       "  'https://d2y36twrtb17ty.cloudfront.net/sessions/4abc4544-6aa8-47cf-8acf-ac710043ae74/8825a835-a062-4450-a834-ac710043ae7d-a1adfe53-af1b-4896-9963-ac71004a27e3.mp4?invocationId=5c24d53b-06b6-eb11-8284-12c206d2fd2b'),\n",
       " ('21: Structured Prediction 1: Wood-Doughty',\n",
       "  'https://d2y36twrtb17ty.cloudfront.net/sessions/4c73af82-abdc-496e-985b-ac700162a678/4ce7b286-39c6-4752-89b5-ac700162a683-5e829635-449e-4abd-a573-ac7001689e65.mp4?invocationId=6224d53b-06b6-eb11-8284-12c206d2fd2b'),\n",
       " ('21: Structured Prediction 1: Pre-recording',\n",
       "  'https://d2y36twrtb17ty.cloudfront.net/sessions/01d55f7c-206a-4265-9967-ac6f0121cbce/5e30a45e-39af-4b2d-bd69-ac6f0121cbd9-ad9f7536-f9fb-4654-a7ed-ac6f0122e9ce.mp4?invocationId=6624d53b-06b6-eb11-8284-12c206d2fd2b'),\n",
       " ('20: Approximate Inference: Wood-Doughty',\n",
       "  'https://d2y36twrtb17ty.cloudfront.net/sessions/3f49c6e4-cc99-4ae8-869a-ac6e0165b17a/f2aa4c84-7f67-4407-8604-ac6e0165b183-4402f50a-69b1-40f4-b813-ac6e016d20b3.mp4?invocationId=a70e2b42-06b6-eb11-8284-12c206d2fd2b'),\n",
       " ('20- Approximate Inference- Dredze',\n",
       "  'https://d2y36twrtb17ty.cloudfront.net/sessions/af936436-86fc-4ec5-94d0-ac6e01496873/f9531cb1-2057-4f25-8a99-ac6e0149687c-1c347e81-1270-423a-b8ab-ac6e0153350e.mp4?invocationId=a90e2b42-06b6-eb11-8284-12c206d2fd2b'),\n",
       " ('20: Approximate Inference Pre-Recording',\n",
       "  'https://d2y36twrtb17ty.cloudfront.net/sessions/2fb53aa5-af44-4949-b143-ac6c017a501c/4339fc50-f5ad-4baf-9d93-ac6c017a5025-fa3f8f37-577f-4adc-8bb8-ac6c017f9a3d.mp4?invocationId=ad0e2b42-06b6-eb11-8284-12c206d2fd2b'),\n",
       " ('Recitation 10/30: Expectation Maximization',\n",
       "  'https://d2y36twrtb17ty.cloudfront.net/sessions/96ae9d43-4656-4f74-bc63-ac6b0182e230/6cdd3fb9-99d2-4f23-ba67-ac6b0182e23b-8ee52532-206b-47de-85f9-ac6c0000cfef.mp4?invocationId=af0e2b42-06b6-eb11-8284-12c206d2fd2b'),\n",
       " ('Recitation: Graphical Models and Exact Inference',\n",
       "  'https://d2y36twrtb17ty.cloudfront.net/sessions/9de8bcbf-4e3d-4e82-9aea-ac6b01517224/e2fab481-7564-412c-a647-ac6b01517230-d750b54a-b07a-4859-b89a-ac6b015bc7fc.mp4?invocationId=b70e2b42-06b6-eb11-8284-12c206d2fd2b'),\n",
       " ('19: Exact Inference Wood-Doughty',\n",
       "  'https://d2y36twrtb17ty.cloudfront.net/sessions/9d2a5c5b-b17e-4a97-843f-ac690163824f/a922a7e4-3863-4d63-a31d-ac690163825a-c9d759a1-c65e-4444-8153-ac6901690a59.mp4?invocationId=bb0e2b42-06b6-eb11-8284-12c206d2fd2b'),\n",
       " ('19: Exact Inference: Dredze',\n",
       "  'https://d2y36twrtb17ty.cloudfront.net/sessions/7b551518-6bbf-43f2-8a95-ac69014d7f15/f499b17a-1897-4c52-8d28-ac69014d7f1f-a10ed462-7f36-4adc-aa6e-ac6901582833.mp4?invocationId=bc0e2b42-06b6-eb11-8284-12c206d2fd2b'),\n",
       " ('19: Exact Inference: Pre-recording',\n",
       "  'https://d2y36twrtb17ty.cloudfront.net/sessions/5ea53a3e-a190-463a-9584-ac68014f5809/b82504f4-48f3-43f4-b65e-ac68014f5815-86c7ef8f-a2f2-48b9-87ce-ac680156c822.mp4?invocationId=c10e2b42-06b6-eb11-8284-12c206d2fd2b'),\n",
       " ('Lecture 18- Graphical Models 2- Dredze combined',\n",
       "  'https://d2y36twrtb17ty.cloudfront.net/sessions/214b3a8e-6642-4823-97b5-ac680038cf8f/be5d1bfb-6306-4cea-bc68-ac680038cf9a-d03ac990-cc3b-4c49-9638-ac68003dc1a9.mp4?invocationId=c40e2b42-06b6-eb11-8284-12c206d2fd2b'),\n",
       " ('18: Graphical Models 2: Wood-Doughty',\n",
       "  'https://d2y36twrtb17ty.cloudfront.net/sessions/e03d0761-1d25-4b3d-8bb8-ac670167c478/ceed03e6-4c42-46ff-a9b5-ac670167c48c-06a65d39-51ee-47f3-be11-ac680010c62b.mp4?invocationId=c60e2b42-06b6-eb11-8284-12c206d2fd2b'),\n",
       " ('18- Graphical Models 2- Prerecording',\n",
       "  'https://d2y36twrtb17ty.cloudfront.net/sessions/51fc4e6c-6454-414f-8182-ac6400598f3b/29f00acc-9d1d-471f-8346-ac6400598f45-6c6c6089-0b56-408b-bbb9-ac6400600181.mp4?invocationId=7a61c348-06b6-eb11-8284-12c206d2fd2b'),\n",
       " ('17- Graphical Models- Dredze- Live',\n",
       "  'https://d2y36twrtb17ty.cloudfront.net/sessions/c5cb5fc9-bf70-4780-8ab5-ac620164a974/41b28358-9e59-47ce-8f61-ac620164a980-43113adc-9eee-4dc2-a90f-ac62016d955d.mp4?invocationId=7d61c348-06b6-eb11-8284-12c206d2fd2b'),\n",
       " ('17: Graphical Models: Wood-Doughty',\n",
       "  'https://d2y36twrtb17ty.cloudfront.net/sessions/137c5086-866e-433b-bb82-ac62015703a5/7b5494d8-ed17-4a0f-8e34-ac62015703b3-d3c07dd6-4ec2-488a-bf39-ac62015f2927.mp4?invocationId=8361c348-06b6-eb11-8284-12c206d2fd2b'),\n",
       " ('Lecture 17- EM- Prerecording',\n",
       "  'https://d2y36twrtb17ty.cloudfront.net/sessions/56d425c8-34b3-493e-9f59-ac610057ab91/b58f04fe-8657-4330-ac14-ac610057ab9a-fd5201ca-0af8-4dfa-a52c-ac61005e7e14.mp4?invocationId=8761c348-06b6-eb11-8284-12c206d2fd2b'),\n",
       " ('Lecture 16 - EM.- Wood-Doughty',\n",
       "  'https://d2y36twrtb17ty.cloudfront.net/sessions/cc7174d1-6ef9-448a-8002-ac60015bb4aa/f43c62d7-142b-4e6d-84fe-ac60015bb4b5-24102022-7e54-421b-ab92-ac60016a6e97.mp4?invocationId=8961c348-06b6-eb11-8284-12c206d2fd2b'),\n",
       " ('Lecture 16- EM- Dredze- Live',\n",
       "  'https://d2y36twrtb17ty.cloudfront.net/sessions/32973f23-63a8-4830-b82f-ac60014fe3c7/8398d757-c62a-4275-ba96-ac60014fe3d2-fa8ab45a-eb39-48ad-a87f-ac600159ce1b.mp4?invocationId=8d61c348-06b6-eb11-8284-12c206d2fd2b'),\n",
       " ('Lecture 16- Prerecording- Gaussian Mixture Models',\n",
       "  'https://d2y36twrtb17ty.cloudfront.net/sessions/f027a557-9528-4e5f-99f0-ac5f00244a47/42f8386b-27f5-4604-a3e8-ac5f00244a51-b158abc7-06a4-40c4-9916-ac5f0029f48c.mp4?invocationId=9161c348-06b6-eb11-8284-12c206d2fd2b'),\n",
       " ('Lecture 15- Clustering- Dredze- Live',\n",
       "  'https://d2y36twrtb17ty.cloudfront.net/sessions/b7893324-1c8e-4910-8245-ac5b016b1270/09a5f7f3-e915-4896-9c15-ac5b016b127a-bf267fab-d58c-454f-a943-ac5b017433cf.mp4?invocationId=9361c348-06b6-eb11-8284-12c206d2fd2b'),\n",
       " ('Lecture 15: Clustering: Wood-Doughty',\n",
       "  'https://d2y36twrtb17ty.cloudfront.net/sessions/71109eab-b5a0-49d9-885b-ac5b01557639/3c067135-734e-4865-8a40-ac5b01557642-48cc5df6-ee6c-4318-89d7-ac5b015ef739.mp4?invocationId=9661c348-06b6-eb11-8284-12c206d2fd2b'),\n",
       " ('Lecture 15- Clustering- Prerecording',\n",
       "  'https://d2y36twrtb17ty.cloudfront.net/sessions/d9b1527e-ab67-470d-b9e9-ac5a00553a49/9160307c-4b14-4098-84bc-ac5a00553a53-3546d299-db7b-4e74-85d0-ac5a00590584.mp4?invocationId=9961c348-06b6-eb11-8284-12c206d2fd2b'),\n",
       " ('Lecture 14: FATE: Wood-Doughty',\n",
       "  'https://d2y36twrtb17ty.cloudfront.net/sessions/fec2e5a0-6c99-40c3-ab05-ac59016bd48b/8714ffaa-48b3-42af-9ea7-ac59016bd493-104e3b35-611d-47b8-8e95-ac5901736643.mp4?invocationId=98fada4e-06b6-eb11-8284-12c206d2fd2b'),\n",
       " ('Lecture 14- FATE- Live- Dredze',\n",
       "  'https://d2y36twrtb17ty.cloudfront.net/sessions/a91accb8-a767-4898-8f42-ac5901366e33/a1dfc4a5-d8a0-4dc3-9c38-ac5901366e41-5ea046f9-4606-4289-bcaf-ac59013f1c8c.mp4?invocationId=9efada4e-06b6-eb11-8284-12c206d2fd2b'),\n",
       " ('Lecture 13: Boosting: Wood-Doughty',\n",
       "  'https://d2y36twrtb17ty.cloudfront.net/sessions/79c8e071-5e99-49d9-ae0c-ac5401509f31/ccc82972-dd9c-4a0e-adf6-ac5401509f3c-f2e34f5a-f2c4-4758-b1ea-ac5401559357.mp4?invocationId=a0fada4e-06b6-eb11-8284-12c206d2fd2b'),\n",
       " ('Lecture 13- Boosting- Dredze',\n",
       "  'https://d2y36twrtb17ty.cloudfront.net/sessions/df93b127-513e-43e0-8fa7-ac54013c0d56/d3c22ea3-5d53-44d4-8b02-ac54013c0d64-57957508-75f2-4e4a-bf3a-ac540145c3d1.mp4?invocationId=a5fada4e-06b6-eb11-8284-12c206d2fd2b'),\n",
       " ('Lecture 13: Boosting: Pre-recorded',\n",
       "  'https://d2y36twrtb17ty.cloudfront.net/sessions/412b5524-b6cd-41e4-9442-ac530058ee74/1dc214ce-d1e5-42c0-8031-ac530058ee7f-9524a48f-4d33-4882-8cf4-ac53005c955b.mp4?invocationId=a9fada4e-06b6-eb11-8284-12c206d2fd2b'),\n",
       " ('Lecture 12- Decision Trees- Dredze',\n",
       "  'https://d2y36twrtb17ty.cloudfront.net/sessions/4a771f8e-8c1d-4d98-ac82-ac52015e337d/b33a7f1e-7a49-4768-acbf-ac52015e3387-f76f5842-1dfc-443a-b98a-ac520166fe9e.mp4?invocationId=adfada4e-06b6-eb11-8284-12c206d2fd2b'),\n",
       " ('Lecture 12: Decision Trees: Wood-Doughty',\n",
       "  'https://d2y36twrtb17ty.cloudfront.net/sessions/bdff6a6b-b9c4-4079-87d7-ac5201591aa9/7bb6690a-ff06-4cbe-99b0-ac5201591ab4-b44f9122-3d78-4eee-a1be-ac520161521d.mp4?invocationId=b3fada4e-06b6-eb11-8284-12c206d2fd2b'),\n",
       " ('Recitation 10/09: Midterm Review',\n",
       "  'https://d2y36twrtb17ty.cloudfront.net/sessions/0de0d4bc-eb9c-483f-a126-ac5001543575/898c3123-0d0c-4933-964a-ac5001543581-63916837-b73b-4ca5-8a21-ac50015b0c79.mp4?invocationId=b7fada4e-06b6-eb11-8284-12c206d2fd2b'),\n",
       " ('Lecture 12- Decision Trees- Pre-recording',\n",
       "  'https://d2y36twrtb17ty.cloudfront.net/sessions/fd4b1baf-3a95-44fb-9112-ac4f0158afd7/a0b8e55f-4696-4e49-8abd-ac4f0158afe1-fb2beadc-01f6-420b-915e-ac4f01641e79.mp4?invocationId=bafada4e-06b6-eb11-8284-12c206d2fd2b'),\n",
       " ('Lecture 11- Deep Learning 2- Dredze',\n",
       "  'https://d2y36twrtb17ty.cloudfront.net/sessions/f276d560-b08c-421b-8cb6-ac4e00e77135/f706532f-3343-4fcb-a6ac-ac4e00e77141-6e22cda5-1e09-4575-a004-ac4e00f2a3d7.mp4?invocationId=818ef554-06b6-eb11-8284-12c206d2fd2b'),\n",
       " ('Lecture 11: Deep Learning 2: Wood-Doughty',\n",
       "  'https://d2y36twrtb17ty.cloudfront.net/sessions/81b55709-8ac3-4cbd-b01d-ac4d0155c686/dc93e434-fdbf-4a9c-ae8c-ac4d0155c691-2f69c70a-b076-4b19-b81f-ac4d01622abb.mp4?invocationId=838ef554-06b6-eb11-8284-12c206d2fd2b'),\n",
       " ('Lecture 11: Deep Learning 2: Pre-recording',\n",
       "  'https://d2y36twrtb17ty.cloudfront.net/sessions/12f9714e-ca49-4cf8-ae8e-ac4b01893b0d/74c0f53b-686e-4a24-8974-ac4b01893b18-a9b47685-c386-433b-bb1a-ac4c0018be9d.mp4?invocationId=878ef554-06b6-eb11-8284-12c206d2fd2b'),\n",
       " ('Lecture 10: Wood-Doughty',\n",
       "  'https://d2y36twrtb17ty.cloudfront.net/sessions/536d63c6-859f-4311-abe4-ac4b0158d57b/98fa9b68-cd1e-4439-b853-ac4b0158d586-41f8da66-c0d5-4f77-af5b-ac4b01603775.mp4?invocationId=8b8ef554-06b6-eb11-8284-12c206d2fd2b'),\n",
       " ('Lecture 10- Deep Learning 1- Dredze',\n",
       "  'https://d2y36twrtb17ty.cloudfront.net/sessions/d6a505b3-78b5-4984-bcac-ac4b013b65b8/0e964efb-1c7c-4763-b018-ac4b013b65c3-a038b804-9f56-403f-9137-ac4b0144ce2e.mp4?invocationId=8d8ef554-06b6-eb11-8284-12c206d2fd2b'),\n",
       " ('10: Deep Learning 1 Pre-recording',\n",
       "  'https://d2y36twrtb17ty.cloudfront.net/sessions/67c60b4a-6ab1-42fd-a7d2-ac47005ebe4f/6a555e20-bc5a-4633-ad18-ac47005ebe5b-d76757fb-922e-474c-9d0f-ac4700662987.mp4?invocationId=948ef554-06b6-eb11-8284-12c206d2fd2b'),\n",
       " ('Lecture 9- Neural Networks- Dredze',\n",
       "  'https://d2y36twrtb17ty.cloudfront.net/sessions/07a8a057-a61e-44c5-8fa6-ac46015a6de6/e617314b-d17a-4acc-a38a-ac46015a6df1-899cdb85-7f7b-468b-872c-ac4601618866.mp4?invocationId=968ef554-06b6-eb11-8284-12c206d2fd2b'),\n",
       " ('9: Neural Networks: Wood-Doughty',\n",
       "  'https://d2y36twrtb17ty.cloudfront.net/sessions/0b203e25-3c39-4950-b205-ac4601561390/bad24d9c-3e7a-43b4-98fd-ac460156139a-6710d009-4d5b-43ee-9c63-ac460161897b.mp4?invocationId=9b8ef554-06b6-eb11-8284-12c206d2fd2b'),\n",
       " ('09 Neural Networks Pre-recorded',\n",
       "  'https://d2y36twrtb17ty.cloudfront.net/sessions/b10b2d8b-79ea-4020-aa18-ac4501059869/76e62a2e-d1fa-45c6-a246-ac4501059875-982b71f7-ca74-4751-a712-ac450108bb81.mp4?invocationId=a28ef554-06b6-eb11-8284-12c206d2fd2b'),\n",
       " ('8: Perceptrons: Wood-Doughty',\n",
       "  'https://d2y36twrtb17ty.cloudfront.net/sessions/994a6cff-2a25-44de-81d9-ac4401767a4d/d4c4b733-e29d-4a23-bc7d-ac4401767a58-4e6da74f-f5cf-4fb6-9aff-ac44017e50bc.mp4?invocationId=d7abf65a-06b6-eb11-8284-12c206d2fd2b'),\n",
       " ('8: Perceptron: Dredze',\n",
       "  'https://d2y36twrtb17ty.cloudfront.net/sessions/d3643ee1-6950-4e9b-81b2-ac44013ce3ce/bb393c3f-bce3-47b7-b79c-ac44013ce3d8-0be8ede5-df9f-491a-8f78-ac44017747f8.mp4?invocationId=d8abf65a-06b6-eb11-8284-12c206d2fd2b'),\n",
       " ('Lecture 8- Perceptrons- Prerecording',\n",
       "  'https://d2y36twrtb17ty.cloudfront.net/sessions/0b10933c-7975-46fc-8e60-ac430030563c/28ba8653-e12d-4fa5-86d5-ac4300305648-af4ddfaa-c6bf-4213-adc0-ac430034e1b6.mp4?invocationId=dcabf65a-06b6-eb11-8284-12c206d2fd2b'),\n",
       " ('Recitation: Convex Optimization and SVMs',\n",
       "  'https://d2y36twrtb17ty.cloudfront.net/sessions/72564306-7d5e-4f24-866a-ac42016b593a/42f3d387-7421-4529-b320-ac42016b5945-6b540002-f163-430e-9691-ac4201701f20.mp4?invocationId=e0abf65a-06b6-eb11-8284-12c206d2fd2b'),\n",
       " ('7: Data Geometry & Kernels: Wood-Doughty',\n",
       "  'https://d2y36twrtb17ty.cloudfront.net/sessions/eb7bcf5c-ad0c-48f8-941e-ac3f01622d6f/42ccaa9d-e3e9-4b5e-a4ad-ac3f01622d78-2a9bf1f5-d137-4658-986b-ac3f0171daa0.mp4?invocationId=e6abf65a-06b6-eb11-8284-12c206d2fd2b'),\n",
       " ('Lecture 7- Kernels- Dredze',\n",
       "  'https://d2y36twrtb17ty.cloudfront.net/sessions/2442d9f2-2e39-42f7-b047-ac3f0135681d/237b7ea2-d558-4289-9df9-ac3f01356827-38308181-bf52-4803-8ef7-ac3f013d758d.mp4?invocationId=eeabf65a-06b6-eb11-8284-12c206d2fd2b'),\n",
       " ('7: Data Geometry & Kernels: Pre-recorded',\n",
       "  'https://d2y36twrtb17ty.cloudfront.net/sessions/c9176768-64b2-46a6-94a2-ac3e005f7d51/ab6ced7e-9a06-44e6-8441-ac3e005f7d5c-cadfccfb-75d1-4497-b038-ac3e006364f4.mp4?invocationId=f1abf65a-06b6-eb11-8284-12c206d2fd2b'),\n",
       " ('6 Data Geometry & SVMs Wood-Doughty',\n",
       "  'https://d2y36twrtb17ty.cloudfront.net/sessions/78382820-675b-4312-98c4-ac3e00074ed7/0b6b59bb-8257-4eb8-8c6f-ac3e00074ee1-37ff162d-bfc9-4d27-b864-ac3e000db44f.mp4?invocationId=f6abf65a-06b6-eb11-8284-12c206d2fd2b'),\n",
       " ('Lecture 6- SVMs- Dredze',\n",
       "  'https://d2y36twrtb17ty.cloudfront.net/sessions/7c270e98-0b6c-44db-97ec-ac3d01566cfe/44f2b0df-1845-4ebf-925c-ac3d01566d0b-222df661-0c98-44be-9b3c-ac3d016002d6.mp4?invocationId=faabf65a-06b6-eb11-8284-12c206d2fd2b'),\n",
       " ('Recitation 9:18',\n",
       "  'https://d2y36twrtb17ty.cloudfront.net/sessions/0b869fdf-7bfd-47f9-b9c9-ac3b016300d8/9153140f-5c70-4765-a826-ac3b016300e4-2775d20d-9981-4085-9ad8-ac3b016adfe5.mp4?invocationId=01acf65a-06b6-eb11-8284-12c206d2fd2b'),\n",
       " ('Lecture 6 Prerecorded',\n",
       "  'https://d2y36twrtb17ty.cloudfront.net/sessions/f27e6056-c9c0-4183-ab60-ac3b01385363/d25f5bc9-b5e6-4e2c-bcf0-ac3b01385371-5b32a978-f3b0-4ebb-92f1-ac3b013b8bb0.mp4?invocationId=04acf65a-06b6-eb11-8284-12c206d2fd2b'),\n",
       " ('Lecture 5 Live Wood-Doughty',\n",
       "  'https://d2y36twrtb17ty.cloudfront.net/sessions/aa3f86d1-286a-4e63-97b3-ac3901096507/a348f2fe-6a4e-4da0-af25-ac3901096514-d35a80cf-5152-43f8-a67e-ac3a00e5b0be.mp4?invocationId=79a25161-06b6-eb11-8284-12c206d2fd2b'),\n",
       " ('Lecture 5- Classification- Dredze',\n",
       "  'https://d2y36twrtb17ty.cloudfront.net/sessions/e2207383-9e86-4559-83bf-ac38013aa7cc/42080963-50aa-4249-8b2b-ac38013aa7d9-846e07c4-c8c0-4a8a-a01e-ac380142ea20.mp4?invocationId=7ca25161-06b6-eb11-8284-12c206d2fd2b'),\n",
       " ('Lecture 5- Classification- Pre-recorded',\n",
       "  'https://d2y36twrtb17ty.cloudfront.net/sessions/b6ab67ee-a3b3-41a6-9b98-ac37004b3ae8/c07570fe-cef2-4444-872e-ac37004b3af0-f70e4e61-18da-418e-9399-ac37004fde38.mp4?invocationId=7fa25161-06b6-eb11-8284-12c206d2fd2b'),\n",
       " ('Lecture 4- Synchronous- Wood-Doughty',\n",
       "  'https://d2y36twrtb17ty.cloudfront.net/sessions/0f519c14-59c0-47c1-8e66-ac36015e7b45/f40b64b6-8bb5-4c87-9577-ac36015e7b51-1788922d-4b9c-4feb-aa79-ac360163cb81.mp4?invocationId=82a25161-06b6-eb11-8284-12c206d2fd2b'),\n",
       " ('Lecture 4- Dredze- Regression 2',\n",
       "  'https://d2y36twrtb17ty.cloudfront.net/sessions/aeb64e8c-0be6-45d7-9fee-ac360153acee/1cd19234-b6a9-4f60-9467-ac360153acf7-c929417d-5665-4d1a-9e0f-ac36015b84e8.mp4?invocationId=86a25161-06b6-eb11-8284-12c206d2fd2b'),\n",
       " ('Lecture 4 Regression 2 Prerecorded',\n",
       "  'https://d2y36twrtb17ty.cloudfront.net/sessions/85238b98-a476-46a5-9e86-ac350133fdcb/8d9e7a1e-be59-4095-bd6c-ac350133fdd6-adbf297b-59b3-4f62-afa3-ac35013627bd.mp4?invocationId=89a25161-06b6-eb11-8284-12c206d2fd2b'),\n",
       " ('2020-9-11 Recitation',\n",
       "  'https://d2y36twrtb17ty.cloudfront.net/sessions/c795da29-bd34-4a45-a709-ac330170cd6d/3a104fd2-9552-4487-8f70-ac330170cd7a-91ad0808-9c39-4404-aa5f-ac3301792bc3.mp4?invocationId=8ba25161-06b6-eb11-8284-12c206d2fd2b'),\n",
       " ('Lecture 3: Wood-Doughty',\n",
       "  'https://d2y36twrtb17ty.cloudfront.net/sessions/64a68bdd-7554-4beb-bf9f-ac3200078dd7/645d7ac3-687b-487e-a644-ac3200078de4-719269a9-b199-4cdd-9ecc-ac32000cee89.mp4?invocationId=8ea25161-06b6-eb11-8284-12c206d2fd2b'),\n",
       " ('Lecture 3 Dredze',\n",
       "  'https://d2y36twrtb17ty.cloudfront.net/sessions/11703f45-8a15-430f-b9a5-ac3101612316/f1df6f98-53b5-4d6d-a791-ac3101612323-61cd228d-2487-4bee-8878-ac31016e4018.mp4?invocationId=91a25161-06b6-eb11-8284-12c206d2fd2b'),\n",
       " ('Lecture 3 - Prerecorded',\n",
       "  'https://d2y36twrtb17ty.cloudfront.net/sessions/ccdf9614-f4d2-45dd-9a1a-ac30000aea21/9ebac272-0c96-413e-9a6a-ac30000aea2e-55868777-b7b6-44a2-8e1e-ac30000cbf3f.mp4?invocationId=95a25161-06b6-eb11-8284-12c206d2fd2b'),\n",
       " ('Lecture 2- Prerecorded',\n",
       "  'https://d2y36twrtb17ty.cloudfront.net/sessions/70592537-9ad8-4d25-bd44-ac2b016f1db7/b1bc0d47-a72a-4140-b7bc-ac2b016f1dc4-146c6b32-13a0-493a-9768-ac2b01706598.mp4?invocationId=6a0ecc67-06b6-eb11-8284-12c206d2fd2b'),\n",
       " ('Wood-Doughty Lecture 2',\n",
       "  'https://d2y36twrtb17ty.cloudfront.net/sessions/4cc952e7-99b2-4ef1-b6e3-ac2b0043bb4a/d70af57f-ed03-4fe8-81e5-ac2b0043bb54-78a11dae-cc3d-4f6a-ae72-ac2b004984d9.mp4?invocationId=6f0ecc67-06b6-eb11-8284-12c206d2fd2b'),\n",
       " ('Dredze - Lecture 2',\n",
       "  'https://d2y36twrtb17ty.cloudfront.net/sessions/afbd3c41-aba8-4708-9599-ac2b00214af4/ab1c9002-d133-47e0-9f15-ac2b00214aff-d26f18f4-a814-46c8-9007-ac2b00291368.mp4?invocationId=720ecc67-06b6-eb11-8284-12c206d2fd2b'),\n",
       " ('Wood-Doughty - Lecture 1',\n",
       "  'https://d2y36twrtb17ty.cloudfront.net/sessions/b5cb8212-c820-483c-a7cb-ac29000a4963/ccebabdd-0443-4472-828d-ac29000a49f4-e45aaf64-b825-423d-a170-ac29000f4a6e.mp4?invocationId=760ecc67-06b6-eb11-8284-12c206d2fd2b'),\n",
       " ('Dredze - Lecture 1',\n",
       "  'https://d2y36twrtb17ty.cloudfront.net/sessions/9d97efd8-c4d9-4ccc-a1c9-ac280140044a/7c90c420-31b3-46f9-b345-ac280140045b-ead03623-4c8a-429c-ba8e-ac28014513c1.mp4?invocationId=780ecc67-06b6-eb11-8284-12c206d2fd2b'),\n",
       " ('Lecture 1- Prerecorded',\n",
       "  'https://d2y36twrtb17ty.cloudfront.net/sessions/01d20aee-561e-4e1a-a766-ac2700326151/60485de1-0fa2-4ff0-ae55-ac270032615c-c19fd825-4321-4ea9-b7a9-ac2700358686.mp4?invocationId=7a0ecc67-06b6-eb11-8284-12c206d2fd2b')]"
      ]
     },
     "execution_count": 52,
     "metadata": {},
     "output_type": "execute_result"
    }
   ],
   "source": [
    "download"
   ]
  },
  {
   "cell_type": "code",
   "execution_count": 53,
   "id": "downtown-death",
   "metadata": {},
   "outputs": [
    {
     "data": {
      "text/plain": [
       "91"
      ]
     },
     "execution_count": 53,
     "metadata": {},
     "output_type": "execute_result"
    }
   ],
   "source": [
    "len(download)"
   ]
  },
  {
   "cell_type": "code",
   "execution_count": 56,
   "id": "soviet-january",
   "metadata": {},
   "outputs": [
    {
     "data": {
      "application/vnd.jupyter.widget-view+json": {
       "model_id": "233e4ea18fbb443aa0b29affa35e1699",
       "version_major": 2,
       "version_minor": 0
      },
      "text/plain": [
       "  0%|          | 0/91 [00:00<?, ?it/s]"
      ]
     },
     "metadata": {},
     "output_type": "display_data"
    }
   ],
   "source": [
    "for title, url in tqdm(download):\n",
    "    r = requests.get(url)\n",
    "    open(title.replace('/', '-')+'.mp4', 'wb').write(r.content)"
   ]
  },
  {
   "cell_type": "markdown",
   "id": "above-links",
   "metadata": {},
   "source": [
    "## Testing"
   ]
  },
  {
   "cell_type": "code",
   "execution_count": 25,
   "id": "filled-prospect",
   "metadata": {},
   "outputs": [],
   "source": [
    "driver.get('https://jh.hosted.panopto.com/Panopto/Pages/Viewer.aspx?id=07143094-9add-4962-a3d7-ad0600e092ae')"
   ]
  },
  {
   "cell_type": "code",
   "execution_count": 26,
   "id": "buried-resident",
   "metadata": {},
   "outputs": [],
   "source": [
    "url = driver.find_element_by_name('twitter:player:stream').get_attribute('content').split('?')[0]"
   ]
  },
  {
   "cell_type": "code",
   "execution_count": 30,
   "id": "utility-salmon",
   "metadata": {},
   "outputs": [
    {
     "data": {
      "text/plain": [
       "'https://jh.hosted.panopto.com/Panopto/Podcast/Social/07143094-9add-4962-a3d7-ad0600e092ae.mp4'"
      ]
     },
     "execution_count": 30,
     "metadata": {},
     "output_type": "execute_result"
    }
   ],
   "source": [
    "url"
   ]
  },
  {
   "cell_type": "code",
   "execution_count": 60,
   "id": "roman-characteristic",
   "metadata": {},
   "outputs": [
    {
     "ename": "HTTPError",
     "evalue": "HTTP Error 403: Forbidden",
     "output_type": "error",
     "traceback": [
      "\u001b[0;31m---------------------------------------------------------------------------\u001b[0m",
      "\u001b[0;31mHTTPError\u001b[0m                                 Traceback (most recent call last)",
      "\u001b[0;32m<ipython-input-60-e92463be8f05>\u001b[0m in \u001b[0;36m<module>\u001b[0;34m\u001b[0m\n\u001b[0;32m----> 1\u001b[0;31m \u001b[0mwget\u001b[0m\u001b[0;34m.\u001b[0m\u001b[0mdownload\u001b[0m\u001b[0;34m(\u001b[0m\u001b[0murl\u001b[0m\u001b[0;34m)\u001b[0m\u001b[0;34m\u001b[0m\u001b[0;34m\u001b[0m\u001b[0m\n\u001b[0m",
      "\u001b[0;32m/Library/Python/3.8/site-packages/wget.py\u001b[0m in \u001b[0;36mdownload\u001b[0;34m(url, out, bar)\u001b[0m\n\u001b[1;32m    524\u001b[0m     \u001b[0;32melse\u001b[0m\u001b[0;34m:\u001b[0m\u001b[0;34m\u001b[0m\u001b[0;34m\u001b[0m\u001b[0m\n\u001b[1;32m    525\u001b[0m         \u001b[0mbinurl\u001b[0m \u001b[0;34m=\u001b[0m \u001b[0murl\u001b[0m\u001b[0;34m\u001b[0m\u001b[0;34m\u001b[0m\u001b[0m\n\u001b[0;32m--> 526\u001b[0;31m     \u001b[0;34m(\u001b[0m\u001b[0mtmpfile\u001b[0m\u001b[0;34m,\u001b[0m \u001b[0mheaders\u001b[0m\u001b[0;34m)\u001b[0m \u001b[0;34m=\u001b[0m \u001b[0mulib\u001b[0m\u001b[0;34m.\u001b[0m\u001b[0murlretrieve\u001b[0m\u001b[0;34m(\u001b[0m\u001b[0mbinurl\u001b[0m\u001b[0;34m,\u001b[0m \u001b[0mtmpfile\u001b[0m\u001b[0;34m,\u001b[0m \u001b[0mcallback\u001b[0m\u001b[0;34m)\u001b[0m\u001b[0;34m\u001b[0m\u001b[0;34m\u001b[0m\u001b[0m\n\u001b[0m\u001b[1;32m    527\u001b[0m     \u001b[0mfilename\u001b[0m \u001b[0;34m=\u001b[0m \u001b[0mdetect_filename\u001b[0m\u001b[0;34m(\u001b[0m\u001b[0murl\u001b[0m\u001b[0;34m,\u001b[0m \u001b[0mout\u001b[0m\u001b[0;34m,\u001b[0m \u001b[0mheaders\u001b[0m\u001b[0;34m)\u001b[0m\u001b[0;34m\u001b[0m\u001b[0;34m\u001b[0m\u001b[0m\n\u001b[1;32m    528\u001b[0m     \u001b[0;32mif\u001b[0m \u001b[0moutdir\u001b[0m\u001b[0;34m:\u001b[0m\u001b[0;34m\u001b[0m\u001b[0;34m\u001b[0m\u001b[0m\n",
      "\u001b[0;32m/Library/Developer/CommandLineTools/Library/Frameworks/Python3.framework/Versions/3.8/lib/python3.8/urllib/request.py\u001b[0m in \u001b[0;36murlretrieve\u001b[0;34m(url, filename, reporthook, data)\u001b[0m\n\u001b[1;32m    245\u001b[0m     \u001b[0murl_type\u001b[0m\u001b[0;34m,\u001b[0m \u001b[0mpath\u001b[0m \u001b[0;34m=\u001b[0m \u001b[0m_splittype\u001b[0m\u001b[0;34m(\u001b[0m\u001b[0murl\u001b[0m\u001b[0;34m)\u001b[0m\u001b[0;34m\u001b[0m\u001b[0;34m\u001b[0m\u001b[0m\n\u001b[1;32m    246\u001b[0m \u001b[0;34m\u001b[0m\u001b[0m\n\u001b[0;32m--> 247\u001b[0;31m     \u001b[0;32mwith\u001b[0m \u001b[0mcontextlib\u001b[0m\u001b[0;34m.\u001b[0m\u001b[0mclosing\u001b[0m\u001b[0;34m(\u001b[0m\u001b[0murlopen\u001b[0m\u001b[0;34m(\u001b[0m\u001b[0murl\u001b[0m\u001b[0;34m,\u001b[0m \u001b[0mdata\u001b[0m\u001b[0;34m)\u001b[0m\u001b[0;34m)\u001b[0m \u001b[0;32mas\u001b[0m \u001b[0mfp\u001b[0m\u001b[0;34m:\u001b[0m\u001b[0;34m\u001b[0m\u001b[0;34m\u001b[0m\u001b[0m\n\u001b[0m\u001b[1;32m    248\u001b[0m         \u001b[0mheaders\u001b[0m \u001b[0;34m=\u001b[0m \u001b[0mfp\u001b[0m\u001b[0;34m.\u001b[0m\u001b[0minfo\u001b[0m\u001b[0;34m(\u001b[0m\u001b[0;34m)\u001b[0m\u001b[0;34m\u001b[0m\u001b[0;34m\u001b[0m\u001b[0m\n\u001b[1;32m    249\u001b[0m \u001b[0;34m\u001b[0m\u001b[0m\n",
      "\u001b[0;32m/Library/Developer/CommandLineTools/Library/Frameworks/Python3.framework/Versions/3.8/lib/python3.8/urllib/request.py\u001b[0m in \u001b[0;36murlopen\u001b[0;34m(url, data, timeout, cafile, capath, cadefault, context)\u001b[0m\n\u001b[1;32m    220\u001b[0m     \u001b[0;32melse\u001b[0m\u001b[0;34m:\u001b[0m\u001b[0;34m\u001b[0m\u001b[0;34m\u001b[0m\u001b[0m\n\u001b[1;32m    221\u001b[0m         \u001b[0mopener\u001b[0m \u001b[0;34m=\u001b[0m \u001b[0m_opener\u001b[0m\u001b[0;34m\u001b[0m\u001b[0;34m\u001b[0m\u001b[0m\n\u001b[0;32m--> 222\u001b[0;31m     \u001b[0;32mreturn\u001b[0m \u001b[0mopener\u001b[0m\u001b[0;34m.\u001b[0m\u001b[0mopen\u001b[0m\u001b[0;34m(\u001b[0m\u001b[0murl\u001b[0m\u001b[0;34m,\u001b[0m \u001b[0mdata\u001b[0m\u001b[0;34m,\u001b[0m \u001b[0mtimeout\u001b[0m\u001b[0;34m)\u001b[0m\u001b[0;34m\u001b[0m\u001b[0;34m\u001b[0m\u001b[0m\n\u001b[0m\u001b[1;32m    223\u001b[0m \u001b[0;34m\u001b[0m\u001b[0m\n\u001b[1;32m    224\u001b[0m \u001b[0;32mdef\u001b[0m \u001b[0minstall_opener\u001b[0m\u001b[0;34m(\u001b[0m\u001b[0mopener\u001b[0m\u001b[0;34m)\u001b[0m\u001b[0;34m:\u001b[0m\u001b[0;34m\u001b[0m\u001b[0;34m\u001b[0m\u001b[0m\n",
      "\u001b[0;32m/Library/Developer/CommandLineTools/Library/Frameworks/Python3.framework/Versions/3.8/lib/python3.8/urllib/request.py\u001b[0m in \u001b[0;36mopen\u001b[0;34m(self, fullurl, data, timeout)\u001b[0m\n\u001b[1;32m    529\u001b[0m         \u001b[0;32mfor\u001b[0m \u001b[0mprocessor\u001b[0m \u001b[0;32min\u001b[0m \u001b[0mself\u001b[0m\u001b[0;34m.\u001b[0m\u001b[0mprocess_response\u001b[0m\u001b[0;34m.\u001b[0m\u001b[0mget\u001b[0m\u001b[0;34m(\u001b[0m\u001b[0mprotocol\u001b[0m\u001b[0;34m,\u001b[0m \u001b[0;34m[\u001b[0m\u001b[0;34m]\u001b[0m\u001b[0;34m)\u001b[0m\u001b[0;34m:\u001b[0m\u001b[0;34m\u001b[0m\u001b[0;34m\u001b[0m\u001b[0m\n\u001b[1;32m    530\u001b[0m             \u001b[0mmeth\u001b[0m \u001b[0;34m=\u001b[0m \u001b[0mgetattr\u001b[0m\u001b[0;34m(\u001b[0m\u001b[0mprocessor\u001b[0m\u001b[0;34m,\u001b[0m \u001b[0mmeth_name\u001b[0m\u001b[0;34m)\u001b[0m\u001b[0;34m\u001b[0m\u001b[0;34m\u001b[0m\u001b[0m\n\u001b[0;32m--> 531\u001b[0;31m             \u001b[0mresponse\u001b[0m \u001b[0;34m=\u001b[0m \u001b[0mmeth\u001b[0m\u001b[0;34m(\u001b[0m\u001b[0mreq\u001b[0m\u001b[0;34m,\u001b[0m \u001b[0mresponse\u001b[0m\u001b[0;34m)\u001b[0m\u001b[0;34m\u001b[0m\u001b[0;34m\u001b[0m\u001b[0m\n\u001b[0m\u001b[1;32m    532\u001b[0m \u001b[0;34m\u001b[0m\u001b[0m\n\u001b[1;32m    533\u001b[0m         \u001b[0;32mreturn\u001b[0m \u001b[0mresponse\u001b[0m\u001b[0;34m\u001b[0m\u001b[0;34m\u001b[0m\u001b[0m\n",
      "\u001b[0;32m/Library/Developer/CommandLineTools/Library/Frameworks/Python3.framework/Versions/3.8/lib/python3.8/urllib/request.py\u001b[0m in \u001b[0;36mhttp_response\u001b[0;34m(self, request, response)\u001b[0m\n\u001b[1;32m    638\u001b[0m         \u001b[0;31m# request was successfully received, understood, and accepted.\u001b[0m\u001b[0;34m\u001b[0m\u001b[0;34m\u001b[0m\u001b[0;34m\u001b[0m\u001b[0m\n\u001b[1;32m    639\u001b[0m         \u001b[0;32mif\u001b[0m \u001b[0;32mnot\u001b[0m \u001b[0;34m(\u001b[0m\u001b[0;36m200\u001b[0m \u001b[0;34m<=\u001b[0m \u001b[0mcode\u001b[0m \u001b[0;34m<\u001b[0m \u001b[0;36m300\u001b[0m\u001b[0;34m)\u001b[0m\u001b[0;34m:\u001b[0m\u001b[0;34m\u001b[0m\u001b[0;34m\u001b[0m\u001b[0m\n\u001b[0;32m--> 640\u001b[0;31m             response = self.parent.error(\n\u001b[0m\u001b[1;32m    641\u001b[0m                 'http', request, response, code, msg, hdrs)\n\u001b[1;32m    642\u001b[0m \u001b[0;34m\u001b[0m\u001b[0m\n",
      "\u001b[0;32m/Library/Developer/CommandLineTools/Library/Frameworks/Python3.framework/Versions/3.8/lib/python3.8/urllib/request.py\u001b[0m in \u001b[0;36merror\u001b[0;34m(self, proto, *args)\u001b[0m\n\u001b[1;32m    567\u001b[0m         \u001b[0;32mif\u001b[0m \u001b[0mhttp_err\u001b[0m\u001b[0;34m:\u001b[0m\u001b[0;34m\u001b[0m\u001b[0;34m\u001b[0m\u001b[0m\n\u001b[1;32m    568\u001b[0m             \u001b[0margs\u001b[0m \u001b[0;34m=\u001b[0m \u001b[0;34m(\u001b[0m\u001b[0mdict\u001b[0m\u001b[0;34m,\u001b[0m \u001b[0;34m'default'\u001b[0m\u001b[0;34m,\u001b[0m \u001b[0;34m'http_error_default'\u001b[0m\u001b[0;34m)\u001b[0m \u001b[0;34m+\u001b[0m \u001b[0morig_args\u001b[0m\u001b[0;34m\u001b[0m\u001b[0;34m\u001b[0m\u001b[0m\n\u001b[0;32m--> 569\u001b[0;31m             \u001b[0;32mreturn\u001b[0m \u001b[0mself\u001b[0m\u001b[0;34m.\u001b[0m\u001b[0m_call_chain\u001b[0m\u001b[0;34m(\u001b[0m\u001b[0;34m*\u001b[0m\u001b[0margs\u001b[0m\u001b[0;34m)\u001b[0m\u001b[0;34m\u001b[0m\u001b[0;34m\u001b[0m\u001b[0m\n\u001b[0m\u001b[1;32m    570\u001b[0m \u001b[0;34m\u001b[0m\u001b[0m\n\u001b[1;32m    571\u001b[0m \u001b[0;31m# XXX probably also want an abstract factory that knows when it makes\u001b[0m\u001b[0;34m\u001b[0m\u001b[0;34m\u001b[0m\u001b[0;34m\u001b[0m\u001b[0m\n",
      "\u001b[0;32m/Library/Developer/CommandLineTools/Library/Frameworks/Python3.framework/Versions/3.8/lib/python3.8/urllib/request.py\u001b[0m in \u001b[0;36m_call_chain\u001b[0;34m(self, chain, kind, meth_name, *args)\u001b[0m\n\u001b[1;32m    500\u001b[0m         \u001b[0;32mfor\u001b[0m \u001b[0mhandler\u001b[0m \u001b[0;32min\u001b[0m \u001b[0mhandlers\u001b[0m\u001b[0;34m:\u001b[0m\u001b[0;34m\u001b[0m\u001b[0;34m\u001b[0m\u001b[0m\n\u001b[1;32m    501\u001b[0m             \u001b[0mfunc\u001b[0m \u001b[0;34m=\u001b[0m \u001b[0mgetattr\u001b[0m\u001b[0;34m(\u001b[0m\u001b[0mhandler\u001b[0m\u001b[0;34m,\u001b[0m \u001b[0mmeth_name\u001b[0m\u001b[0;34m)\u001b[0m\u001b[0;34m\u001b[0m\u001b[0;34m\u001b[0m\u001b[0m\n\u001b[0;32m--> 502\u001b[0;31m             \u001b[0mresult\u001b[0m \u001b[0;34m=\u001b[0m \u001b[0mfunc\u001b[0m\u001b[0;34m(\u001b[0m\u001b[0;34m*\u001b[0m\u001b[0margs\u001b[0m\u001b[0;34m)\u001b[0m\u001b[0;34m\u001b[0m\u001b[0;34m\u001b[0m\u001b[0m\n\u001b[0m\u001b[1;32m    503\u001b[0m             \u001b[0;32mif\u001b[0m \u001b[0mresult\u001b[0m \u001b[0;32mis\u001b[0m \u001b[0;32mnot\u001b[0m \u001b[0;32mNone\u001b[0m\u001b[0;34m:\u001b[0m\u001b[0;34m\u001b[0m\u001b[0;34m\u001b[0m\u001b[0m\n\u001b[1;32m    504\u001b[0m                 \u001b[0;32mreturn\u001b[0m \u001b[0mresult\u001b[0m\u001b[0;34m\u001b[0m\u001b[0;34m\u001b[0m\u001b[0m\n",
      "\u001b[0;32m/Library/Developer/CommandLineTools/Library/Frameworks/Python3.framework/Versions/3.8/lib/python3.8/urllib/request.py\u001b[0m in \u001b[0;36mhttp_error_default\u001b[0;34m(self, req, fp, code, msg, hdrs)\u001b[0m\n\u001b[1;32m    647\u001b[0m \u001b[0;32mclass\u001b[0m \u001b[0mHTTPDefaultErrorHandler\u001b[0m\u001b[0;34m(\u001b[0m\u001b[0mBaseHandler\u001b[0m\u001b[0;34m)\u001b[0m\u001b[0;34m:\u001b[0m\u001b[0;34m\u001b[0m\u001b[0;34m\u001b[0m\u001b[0m\n\u001b[1;32m    648\u001b[0m     \u001b[0;32mdef\u001b[0m \u001b[0mhttp_error_default\u001b[0m\u001b[0;34m(\u001b[0m\u001b[0mself\u001b[0m\u001b[0;34m,\u001b[0m \u001b[0mreq\u001b[0m\u001b[0;34m,\u001b[0m \u001b[0mfp\u001b[0m\u001b[0;34m,\u001b[0m \u001b[0mcode\u001b[0m\u001b[0;34m,\u001b[0m \u001b[0mmsg\u001b[0m\u001b[0;34m,\u001b[0m \u001b[0mhdrs\u001b[0m\u001b[0;34m)\u001b[0m\u001b[0;34m:\u001b[0m\u001b[0;34m\u001b[0m\u001b[0;34m\u001b[0m\u001b[0m\n\u001b[0;32m--> 649\u001b[0;31m         \u001b[0;32mraise\u001b[0m \u001b[0mHTTPError\u001b[0m\u001b[0;34m(\u001b[0m\u001b[0mreq\u001b[0m\u001b[0;34m.\u001b[0m\u001b[0mfull_url\u001b[0m\u001b[0;34m,\u001b[0m \u001b[0mcode\u001b[0m\u001b[0;34m,\u001b[0m \u001b[0mmsg\u001b[0m\u001b[0;34m,\u001b[0m \u001b[0mhdrs\u001b[0m\u001b[0;34m,\u001b[0m \u001b[0mfp\u001b[0m\u001b[0;34m)\u001b[0m\u001b[0;34m\u001b[0m\u001b[0;34m\u001b[0m\u001b[0m\n\u001b[0m\u001b[1;32m    650\u001b[0m \u001b[0;34m\u001b[0m\u001b[0m\n\u001b[1;32m    651\u001b[0m \u001b[0;32mclass\u001b[0m \u001b[0mHTTPRedirectHandler\u001b[0m\u001b[0;34m(\u001b[0m\u001b[0mBaseHandler\u001b[0m\u001b[0;34m)\u001b[0m\u001b[0;34m:\u001b[0m\u001b[0;34m\u001b[0m\u001b[0;34m\u001b[0m\u001b[0m\n",
      "\u001b[0;31mHTTPError\u001b[0m: HTTP Error 403: Forbidden"
     ]
    }
   ],
   "source": [
    "wget.download(url)"
   ]
  },
  {
   "cell_type": "code",
   "execution_count": 45,
   "id": "waiting-hacker",
   "metadata": {},
   "outputs": [],
   "source": [
    "driver.get(url)"
   ]
  },
  {
   "cell_type": "code",
   "execution_count": 59,
   "id": "unsigned-chorus",
   "metadata": {},
   "outputs": [],
   "source": [
    "time.sleep(5)\n",
    "actions = ActionChains(driver)\n",
    "actions.send_keys(Keys.COMMAND, 't')\n",
    "actions.perform()"
   ]
  },
  {
   "cell_type": "code",
   "execution_count": 54,
   "id": "hairy-finland",
   "metadata": {},
   "outputs": [
    {
     "ename": "NoSuchElementException",
     "evalue": "Message: no such element: Unable to locate element: {\"method\":\"css selector\",\"selector\":\"[name=\"q\"]\"}\n  (Session info: chrome=90.0.4430.212)\n",
     "output_type": "error",
     "traceback": [
      "\u001b[0;31m---------------------------------------------------------------------------\u001b[0m",
      "\u001b[0;31mNoSuchElementException\u001b[0m                    Traceback (most recent call last)",
      "\u001b[0;32m<ipython-input-54-9fdc9e0b5f2b>\u001b[0m in \u001b[0;36m<module>\u001b[0;34m\u001b[0m\n\u001b[0;32m----> 1\u001b[0;31m \u001b[0mq\u001b[0m \u001b[0;34m=\u001b[0m \u001b[0mdriver\u001b[0m\u001b[0;34m.\u001b[0m\u001b[0mfind_element_by_name\u001b[0m\u001b[0;34m(\u001b[0m\u001b[0;34m'q'\u001b[0m\u001b[0;34m)\u001b[0m\u001b[0;34m\u001b[0m\u001b[0;34m\u001b[0m\u001b[0m\n\u001b[0m\u001b[1;32m      2\u001b[0m \u001b[0mq\u001b[0m\u001b[0;34m.\u001b[0m\u001b[0msend_keys\u001b[0m\u001b[0;34m(\u001b[0m\u001b[0mKeys\u001b[0m\u001b[0;34m.\u001b[0m\u001b[0mCONTROL\u001b[0m\u001b[0;34m,\u001b[0m \u001b[0;34m't'\u001b[0m\u001b[0;34m)\u001b[0m\u001b[0;34m\u001b[0m\u001b[0;34m\u001b[0m\u001b[0m\n",
      "\u001b[0;32m~/Library/Python/3.8/lib/python/site-packages/selenium/webdriver/remote/webdriver.py\u001b[0m in \u001b[0;36mfind_element_by_name\u001b[0;34m(self, name)\u001b[0m\n\u001b[1;32m    494\u001b[0m             \u001b[0melement\u001b[0m \u001b[0;34m=\u001b[0m \u001b[0mdriver\u001b[0m\u001b[0;34m.\u001b[0m\u001b[0mfind_element_by_name\u001b[0m\u001b[0;34m(\u001b[0m\u001b[0;34m'foo'\u001b[0m\u001b[0;34m)\u001b[0m\u001b[0;34m\u001b[0m\u001b[0;34m\u001b[0m\u001b[0m\n\u001b[1;32m    495\u001b[0m         \"\"\"\n\u001b[0;32m--> 496\u001b[0;31m         \u001b[0;32mreturn\u001b[0m \u001b[0mself\u001b[0m\u001b[0;34m.\u001b[0m\u001b[0mfind_element\u001b[0m\u001b[0;34m(\u001b[0m\u001b[0mby\u001b[0m\u001b[0;34m=\u001b[0m\u001b[0mBy\u001b[0m\u001b[0;34m.\u001b[0m\u001b[0mNAME\u001b[0m\u001b[0;34m,\u001b[0m \u001b[0mvalue\u001b[0m\u001b[0;34m=\u001b[0m\u001b[0mname\u001b[0m\u001b[0;34m)\u001b[0m\u001b[0;34m\u001b[0m\u001b[0;34m\u001b[0m\u001b[0m\n\u001b[0m\u001b[1;32m    497\u001b[0m \u001b[0;34m\u001b[0m\u001b[0m\n\u001b[1;32m    498\u001b[0m     \u001b[0;32mdef\u001b[0m \u001b[0mfind_elements_by_name\u001b[0m\u001b[0;34m(\u001b[0m\u001b[0mself\u001b[0m\u001b[0;34m,\u001b[0m \u001b[0mname\u001b[0m\u001b[0;34m)\u001b[0m\u001b[0;34m:\u001b[0m\u001b[0;34m\u001b[0m\u001b[0;34m\u001b[0m\u001b[0m\n",
      "\u001b[0;32m~/Library/Python/3.8/lib/python/site-packages/selenium/webdriver/remote/webdriver.py\u001b[0m in \u001b[0;36mfind_element\u001b[0;34m(self, by, value)\u001b[0m\n\u001b[1;32m    974\u001b[0m                 \u001b[0mby\u001b[0m \u001b[0;34m=\u001b[0m \u001b[0mBy\u001b[0m\u001b[0;34m.\u001b[0m\u001b[0mCSS_SELECTOR\u001b[0m\u001b[0;34m\u001b[0m\u001b[0;34m\u001b[0m\u001b[0m\n\u001b[1;32m    975\u001b[0m                 \u001b[0mvalue\u001b[0m \u001b[0;34m=\u001b[0m \u001b[0;34m'[name=\"%s\"]'\u001b[0m \u001b[0;34m%\u001b[0m \u001b[0mvalue\u001b[0m\u001b[0;34m\u001b[0m\u001b[0;34m\u001b[0m\u001b[0m\n\u001b[0;32m--> 976\u001b[0;31m         return self.execute(Command.FIND_ELEMENT, {\n\u001b[0m\u001b[1;32m    977\u001b[0m             \u001b[0;34m'using'\u001b[0m\u001b[0;34m:\u001b[0m \u001b[0mby\u001b[0m\u001b[0;34m,\u001b[0m\u001b[0;34m\u001b[0m\u001b[0;34m\u001b[0m\u001b[0m\n\u001b[1;32m    978\u001b[0m             'value': value})['value']\n",
      "\u001b[0;32m~/Library/Python/3.8/lib/python/site-packages/selenium/webdriver/remote/webdriver.py\u001b[0m in \u001b[0;36mexecute\u001b[0;34m(self, driver_command, params)\u001b[0m\n\u001b[1;32m    319\u001b[0m         \u001b[0mresponse\u001b[0m \u001b[0;34m=\u001b[0m \u001b[0mself\u001b[0m\u001b[0;34m.\u001b[0m\u001b[0mcommand_executor\u001b[0m\u001b[0;34m.\u001b[0m\u001b[0mexecute\u001b[0m\u001b[0;34m(\u001b[0m\u001b[0mdriver_command\u001b[0m\u001b[0;34m,\u001b[0m \u001b[0mparams\u001b[0m\u001b[0;34m)\u001b[0m\u001b[0;34m\u001b[0m\u001b[0;34m\u001b[0m\u001b[0m\n\u001b[1;32m    320\u001b[0m         \u001b[0;32mif\u001b[0m \u001b[0mresponse\u001b[0m\u001b[0;34m:\u001b[0m\u001b[0;34m\u001b[0m\u001b[0;34m\u001b[0m\u001b[0m\n\u001b[0;32m--> 321\u001b[0;31m             \u001b[0mself\u001b[0m\u001b[0;34m.\u001b[0m\u001b[0merror_handler\u001b[0m\u001b[0;34m.\u001b[0m\u001b[0mcheck_response\u001b[0m\u001b[0;34m(\u001b[0m\u001b[0mresponse\u001b[0m\u001b[0;34m)\u001b[0m\u001b[0;34m\u001b[0m\u001b[0;34m\u001b[0m\u001b[0m\n\u001b[0m\u001b[1;32m    322\u001b[0m             response['value'] = self._unwrap_value(\n\u001b[1;32m    323\u001b[0m                 response.get('value', None))\n",
      "\u001b[0;32m~/Library/Python/3.8/lib/python/site-packages/selenium/webdriver/remote/errorhandler.py\u001b[0m in \u001b[0;36mcheck_response\u001b[0;34m(self, response)\u001b[0m\n\u001b[1;32m    240\u001b[0m                 \u001b[0malert_text\u001b[0m \u001b[0;34m=\u001b[0m \u001b[0mvalue\u001b[0m\u001b[0;34m[\u001b[0m\u001b[0;34m'alert'\u001b[0m\u001b[0;34m]\u001b[0m\u001b[0;34m.\u001b[0m\u001b[0mget\u001b[0m\u001b[0;34m(\u001b[0m\u001b[0;34m'text'\u001b[0m\u001b[0;34m)\u001b[0m\u001b[0;34m\u001b[0m\u001b[0;34m\u001b[0m\u001b[0m\n\u001b[1;32m    241\u001b[0m             \u001b[0;32mraise\u001b[0m \u001b[0mexception_class\u001b[0m\u001b[0;34m(\u001b[0m\u001b[0mmessage\u001b[0m\u001b[0;34m,\u001b[0m \u001b[0mscreen\u001b[0m\u001b[0;34m,\u001b[0m \u001b[0mstacktrace\u001b[0m\u001b[0;34m,\u001b[0m \u001b[0malert_text\u001b[0m\u001b[0;34m)\u001b[0m\u001b[0;34m\u001b[0m\u001b[0;34m\u001b[0m\u001b[0m\n\u001b[0;32m--> 242\u001b[0;31m         \u001b[0;32mraise\u001b[0m \u001b[0mexception_class\u001b[0m\u001b[0;34m(\u001b[0m\u001b[0mmessage\u001b[0m\u001b[0;34m,\u001b[0m \u001b[0mscreen\u001b[0m\u001b[0;34m,\u001b[0m \u001b[0mstacktrace\u001b[0m\u001b[0;34m)\u001b[0m\u001b[0;34m\u001b[0m\u001b[0;34m\u001b[0m\u001b[0m\n\u001b[0m\u001b[1;32m    243\u001b[0m \u001b[0;34m\u001b[0m\u001b[0m\n\u001b[1;32m    244\u001b[0m     \u001b[0;32mdef\u001b[0m \u001b[0m_value_or_default\u001b[0m\u001b[0;34m(\u001b[0m\u001b[0mself\u001b[0m\u001b[0;34m,\u001b[0m \u001b[0mobj\u001b[0m\u001b[0;34m,\u001b[0m \u001b[0mkey\u001b[0m\u001b[0;34m,\u001b[0m \u001b[0mdefault\u001b[0m\u001b[0;34m)\u001b[0m\u001b[0;34m:\u001b[0m\u001b[0;34m\u001b[0m\u001b[0;34m\u001b[0m\u001b[0m\n",
      "\u001b[0;31mNoSuchElementException\u001b[0m: Message: no such element: Unable to locate element: {\"method\":\"css selector\",\"selector\":\"[name=\"q\"]\"}\n  (Session info: chrome=90.0.4430.212)\n"
     ]
    }
   ],
   "source": [
    "q = driver.find_element_by_name('q')\n",
    "\n",
    "q.send_keys(Keys.CONTROL, 't')"
   ]
  },
  {
   "cell_type": "code",
   "execution_count": 63,
   "id": "nominated-happening",
   "metadata": {},
   "outputs": [],
   "source": [
    "new_url = driver.current_url"
   ]
  },
  {
   "cell_type": "code",
   "execution_count": 64,
   "id": "resistant-segment",
   "metadata": {},
   "outputs": [
    {
     "data": {
      "text/plain": [
       "'07143094-9add-4962-a3d7-ad0600e092ae-5c771d2f-3aac-4d55-82fa-ad0600e101e5.mp4'"
      ]
     },
     "execution_count": 64,
     "metadata": {},
     "output_type": "execute_result"
    }
   ],
   "source": [
    "wget.download(new_url)"
   ]
  },
  {
   "cell_type": "code",
   "execution_count": null,
   "id": "lightweight-genre",
   "metadata": {},
   "outputs": [],
   "source": []
  }
 ],
 "metadata": {
  "kernelspec": {
   "display_name": "Python 3",
   "language": "python",
   "name": "python3"
  },
  "language_info": {
   "codemirror_mode": {
    "name": "ipython",
    "version": 3
   },
   "file_extension": ".py",
   "mimetype": "text/x-python",
   "name": "python",
   "nbconvert_exporter": "python",
   "pygments_lexer": "ipython3",
   "version": "3.8.2"
  }
 },
 "nbformat": 4,
 "nbformat_minor": 5
}
